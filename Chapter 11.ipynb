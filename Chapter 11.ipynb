{
 "cells": [
  {
   "cell_type": "code",
   "execution_count": 7,
   "id": "08bf94e9",
   "metadata": {},
   "outputs": [
    {
     "name": "stdout",
     "output_type": "stream",
     "text": [
      "<class '__main__.Apple'>\n"
     ]
    }
   ],
   "source": [
    ">>> class Apple:\n",
    ">>>  pass\n",
    ">>> print (Apple)"
   ]
  },
  {
   "cell_type": "code",
   "execution_count": 6,
   "id": "2d8e7366",
   "metadata": {},
   "outputs": [
    {
     "name": "stdout",
     "output_type": "stream",
     "text": [
      "red\n"
     ]
    }
   ],
   "source": [
    ">>> class Apple:\n",
    ">>>    color = \"\"\n",
    ">>>    flavour = \"\"\n",
    ">>> jonagold = Apple()\n",
    ">>> jonagold.color = \"red\"\n",
    ">>> print (jonagold.color)\n"
   ]
  },
  {
   "cell_type": "code",
   "execution_count": 8,
   "id": "d988b42e",
   "metadata": {},
   "outputs": [
    {
     "name": "stdout",
     "output_type": "stream",
     "text": [
      "red\n",
      "sweet\n",
      "RED\n"
     ]
    }
   ],
   "source": [
    ">>> class Apple:\n",
    ">>>    color = \"\"\n",
    ">>>    flavour = \"\"\n",
    ">>> jonagold = Apple()\n",
    ">>> jonagold.color = \"red\"\n",
    ">>> jonagold.flavour = \"sweet\"\n",
    ">>> print (jonagold.color)\n",
    ">>> print (jonagold.flavour)\n",
    ">>> print (jonagold.color.upper())"
   ]
  },
  {
   "cell_type": "code",
   "execution_count": 21,
   "id": "0cc8d5a8",
   "metadata": {},
   "outputs": [
    {
     "ename": "NameError",
     "evalue": "name 'Flower' is not defined",
     "output_type": "error",
     "traceback": [
      "\u001b[1;31m---------------------------------------------------------------------------\u001b[0m",
      "\u001b[1;31mNameError\u001b[0m                                 Traceback (most recent call last)",
      "Cell \u001b[1;32mIn[21], line 1\u001b[0m\n\u001b[1;32m----> 1\u001b[0m \u001b[38;5;28;01mclass\u001b[39;00m \u001b[38;5;21;01mFlower\u001b[39;00m:\n\u001b[0;32m      2\u001b[0m     color \u001b[38;5;241m=\u001b[39m \u001b[38;5;124m'\u001b[39m\u001b[38;5;124munknown\u001b[39m\u001b[38;5;124m'\u001b[39m\n\u001b[0;32m      3\u001b[0m     rose \u001b[38;5;241m=\u001b[39m Flower()\n",
      "Cell \u001b[1;32mIn[21], line 3\u001b[0m, in \u001b[0;36mFlower\u001b[1;34m()\u001b[0m\n\u001b[0;32m      1\u001b[0m \u001b[38;5;28;01mclass\u001b[39;00m \u001b[38;5;21;01mFlower\u001b[39;00m:\n\u001b[0;32m      2\u001b[0m     color \u001b[38;5;241m=\u001b[39m \u001b[38;5;124m'\u001b[39m\u001b[38;5;124munknown\u001b[39m\u001b[38;5;124m'\u001b[39m\n\u001b[1;32m----> 3\u001b[0m     rose \u001b[38;5;241m=\u001b[39m Flower()\n\u001b[0;32m      4\u001b[0m     rose\u001b[38;5;241m.\u001b[39mcolor \u001b[38;5;241m=\u001b[39m \u001b[38;5;124m\"\u001b[39m\u001b[38;5;124mred\u001b[39m\u001b[38;5;124m\"\u001b[39m\n\u001b[0;32m      5\u001b[0m     violet \u001b[38;5;241m=\u001b[39m Flower()\n",
      "\u001b[1;31mNameError\u001b[0m: name 'Flower' is not defined"
     ]
    }
   ],
   "source": [
    ">>> class Flower:\n",
    ">>>     color = 'unknown'\n",
    ">>>     rose = Flower()\n",
    ">>>     rose.color = \"red\"\n",
    ">>>     violet = Flower()\n",
    ">>>     violet.color = \"blue\"\n",
    ">>>     print(\"Roses are {}\".format(rose.color))\n",
    ">>>     print(\"violets are {}\".format(violet.color))\n",
    "    "
   ]
  },
  {
   "cell_type": "code",
   "execution_count": 27,
   "id": "55394a2e",
   "metadata": {},
   "outputs": [
    {
     "ename": "IndentationError",
     "evalue": "unexpected indent (3509283880.py, line 7)",
     "output_type": "error",
     "traceback": [
      "\u001b[1;36m  Cell \u001b[1;32mIn[27], line 7\u001b[1;36m\u001b[0m\n\u001b[1;33m    print(\"Meow I am {}\".format(self.name))\u001b[0m\n\u001b[1;37m    ^\u001b[0m\n\u001b[1;31mIndentationError\u001b[0m\u001b[1;31m:\u001b[0m unexpected indent\n"
     ]
    }
   ],
   "source": [
    ">>> class Cat:\n",
    ">>>     name = \"\"\n",
    ">>>     def speak(self):\n",
    ">>>         myLuna = Cat()\n",
    ">>>         myLuna.name = \"Luna\"\n",
    ">>>         myLuna.speak()\n",
    ">>>             print(\"Meow I am {}\".format(self.name))"
   ]
  },
  {
   "cell_type": "code",
   "execution_count": 22,
   "id": "5b2f64fc",
   "metadata": {},
   "outputs": [
    {
     "name": "stdout",
     "output_type": "stream",
     "text": [
      "John\n",
      "36\n"
     ]
    }
   ],
   "source": [
    ">>> class Person:\n",
    ">>>   def __init__(self, name, age):\n",
    ">>>     self.name = name\n",
    ">>>     self.age = age\n",
    "\n",
    ">>> p1 = Person(\"John\", 36)\n",
    "\n",
    ">>> print(p1.name)\n",
    ">>> print(p1.age)"
   ]
  },
  {
   "cell_type": "code",
   "execution_count": 23,
   "id": "503df69c",
   "metadata": {},
   "outputs": [
    {
     "name": "stdout",
     "output_type": "stream",
     "text": [
      "John Doe\n"
     ]
    }
   ],
   "source": [
    ">>> class Person:\n",
    ">>>   def __init__(self, fname, lname):\n",
    ">>>     self.firstname = fname\n",
    ">>>     self.lastname = lname\n",
    "\n",
    ">>>   def printname(self):\n",
    ">>>     print(self.firstname, self.lastname)\n",
    "\n",
    "#Use the Person class to create an object, and then execute the printname method:\n",
    "\n",
    ">>> x = Person(\"John\", \"Doe\")\n",
    ">>> x.printname()"
   ]
  },
  {
   "cell_type": "code",
   "execution_count": null,
   "id": "f5d2b195",
   "metadata": {},
   "outputs": [],
   "source": []
  }
 ],
 "metadata": {
  "kernelspec": {
   "display_name": "Python 3 (ipykernel)",
   "language": "python",
   "name": "python3"
  },
  "language_info": {
   "codemirror_mode": {
    "name": "ipython",
    "version": 3
   },
   "file_extension": ".py",
   "mimetype": "text/x-python",
   "name": "python",
   "nbconvert_exporter": "python",
   "pygments_lexer": "ipython3",
   "version": "3.11.4"
  }
 },
 "nbformat": 4,
 "nbformat_minor": 5
}
